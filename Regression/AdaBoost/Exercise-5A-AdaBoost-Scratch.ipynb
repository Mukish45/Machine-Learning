{
 "cells": [
  {
   "cell_type": "code",
   "execution_count": 1,
   "id": "8874fa32",
   "metadata": {},
   "outputs": [],
   "source": [
    "import numpy as np\n",
    "from sklearn.tree import DecisionTreeClassifier\n",
    "\n",
    "def update_weights(weights, alpha_m, y_train, y_pred):\n",
    "    v = (weights * np.exp(-(alpha_m * (np.equal(y_train, y_pred)).astype(int))))\n",
    "    v = (v * np.exp(alpha_m * (np.not_equal(y_train, y_pred)).astype(int))) \n",
    "    return v\n",
    "  \n",
    "def compute_error(y_train, y_pred, weights):\n",
    "    return (sum(weights * (np.not_equal(y_train, y_pred)).astype(int)))/sum(weights)\n",
    "\n",
    "def compute_alpha(error_in_learner):\n",
    "    return (1/2*(np.log((1 - error_in_learner) / error_in_learner)))\n",
    "    \n",
    "    \n",
    "class My_AdaBoost:\n",
    "    def __init__(self):\n",
    "        self.M = None\n",
    "        self.alpha = []\n",
    "        self.training_error = []\n",
    "        self.trained_models = []\n",
    "        \n",
    "        \n",
    "    def fit_model(self, X_train, y_train, M=3):\n",
    "        self.M = M\n",
    "        self.training_error = []\n",
    "        self.alpha = []\n",
    "        \n",
    "        for m in range(0, M):\n",
    "            print(\"\\nIteration no - \",m)\n",
    "            if m == 0:\n",
    "                weights = np.ones(len(y_train)) * 1 / len(y_train)\n",
    "                print(\"Weights are \",weights)\n",
    "            else:\n",
    "                weights = update_weights(weights, alpha_of_learner, y_train, y_pred)\n",
    "                print(\"Weights are \",weights)\n",
    "            \n",
    "            learner = DecisionTreeClassifier(max_depth=1)\n",
    "            learner.fit(X_train, y_train, sample_weight=weights)\n",
    "            y_pred = learner.predict(X_train)\n",
    "            print(\"Prediction at iteration \",m)\n",
    "            print(y_pred)\n",
    "            \n",
    "            self.trained_models.append(learner)\n",
    "            \n",
    "            error_in_learner = compute_error(y_train, y_pred, weights)\n",
    "            print(\"Error rate is \",error_in_learner)\n",
    "            self.training_error.append(error_in_learner)\n",
    "            \n",
    "            alpha_of_learner = compute_alpha(error_in_learner)\n",
    "            print(\"Alpha value is \",alpha_of_learner)\n",
    "            self.alpha.append(alpha_of_learner)\n",
    "            \n",
    "        assert len(self.trained_models) == len(self.alpha)\n",
    "    \n",
    "    \n",
    "    def predict(self, X_train):\n",
    "        weak_preds = pd.DataFrame(index = range(len(X_train)), columns = range(self.M))\n",
    "        \n",
    "        for m in range(self.M):\n",
    "                y_pred_m = self.trained_models[m].predict(X_train) * self.alpha[m]\n",
    "                weak_preds.iloc[:,m] = y_pred_m\n",
    "                \n",
    "        y_pred = (1 * np.sign(weak_preds.T.sum())).astype(int)\n",
    "        print(\"Prediction is\\n\",y_pred)\n",
    "        return y_pred"
   ]
  },
  {
   "cell_type": "code",
   "execution_count": 2,
   "id": "ad8131fd",
   "metadata": {},
   "outputs": [
    {
     "data": {
      "text/html": [
       "<div>\n",
       "<style scoped>\n",
       "    .dataframe tbody tr th:only-of-type {\n",
       "        vertical-align: middle;\n",
       "    }\n",
       "\n",
       "    .dataframe tbody tr th {\n",
       "        vertical-align: top;\n",
       "    }\n",
       "\n",
       "    .dataframe thead th {\n",
       "        text-align: right;\n",
       "    }\n",
       "</style>\n",
       "<table border=\"1\" class=\"dataframe\">\n",
       "  <thead>\n",
       "    <tr style=\"text-align: right;\">\n",
       "      <th></th>\n",
       "      <th>X1</th>\n",
       "      <th>X2</th>\n",
       "      <th>Y</th>\n",
       "    </tr>\n",
       "  </thead>\n",
       "  <tbody>\n",
       "    <tr>\n",
       "      <th>0</th>\n",
       "      <td>3</td>\n",
       "      <td>7</td>\n",
       "      <td>1</td>\n",
       "    </tr>\n",
       "    <tr>\n",
       "      <th>1</th>\n",
       "      <td>2</td>\n",
       "      <td>9</td>\n",
       "      <td>-1</td>\n",
       "    </tr>\n",
       "    <tr>\n",
       "      <th>2</th>\n",
       "      <td>1</td>\n",
       "      <td>4</td>\n",
       "      <td>1</td>\n",
       "    </tr>\n",
       "    <tr>\n",
       "      <th>3</th>\n",
       "      <td>2</td>\n",
       "      <td>8</td>\n",
       "      <td>-1</td>\n",
       "    </tr>\n",
       "    <tr>\n",
       "      <th>4</th>\n",
       "      <td>4</td>\n",
       "      <td>7</td>\n",
       "      <td>-1</td>\n",
       "    </tr>\n",
       "  </tbody>\n",
       "</table>\n",
       "</div>"
      ],
      "text/plain": [
       "   X1  X2  Y\n",
       "0   3   7  1\n",
       "1   2   9 -1\n",
       "2   1   4  1\n",
       "3   2   8 -1\n",
       "4   4   7 -1"
      ]
     },
     "execution_count": 2,
     "metadata": {},
     "output_type": "execute_result"
    }
   ],
   "source": [
    "import pandas as pd\n",
    "X_val = [[3,7],\n",
    "    [2,9],\n",
    "    [1,4],\n",
    "    [2,8],\n",
    "    [4,7]]\n",
    "\n",
    "y_val = [1,-1,1,-1,-1]\n",
    "\n",
    "df = pd.DataFrame(X_val, columns=['X1','X2'])\n",
    "df['Y'] = y_val\n",
    "\n",
    "df"
   ]
  },
  {
   "cell_type": "code",
   "execution_count": 3,
   "id": "c750a454",
   "metadata": {},
   "outputs": [],
   "source": [
    "X = df.iloc[:,:-1].values\n",
    "y = df.iloc[:,-1].values"
   ]
  },
  {
   "cell_type": "code",
   "execution_count": 4,
   "id": "90189f69",
   "metadata": {},
   "outputs": [
    {
     "name": "stdout",
     "output_type": "stream",
     "text": [
      "\n",
      "Iteration no -  0\n",
      "Weights are  [0.2 0.2 0.2 0.2 0.2]\n",
      "Prediction at iteration  0\n",
      "[ 1 -1  1 -1  1]\n",
      "Error rate is  0.2\n",
      "Alpha value is  0.6931471805599453\n",
      "\n",
      "Iteration no -  1\n",
      "Weights are  [0.1 0.1 0.1 0.1 0.4]\n",
      "Prediction at iteration  1\n",
      "[-1 -1  1 -1 -1]\n",
      "Error rate is  0.125\n",
      "Alpha value is  0.9729550745276566\n",
      "\n",
      "Iteration no -  2\n",
      "Weights are  [0.26457513 0.03779645 0.03779645 0.03779645 0.15118579]\n",
      "Prediction at iteration  2\n",
      "[ 1  1  1  1 -1]\n",
      "Error rate is  0.14285714285714282\n",
      "Alpha value is  0.8958797346140277\n"
     ]
    }
   ],
   "source": [
    "adaboost = My_AdaBoost()\n",
    "adaboost.fit_model(X, y)"
   ]
  },
  {
   "cell_type": "code",
   "execution_count": 5,
   "id": "1a20fae2",
   "metadata": {},
   "outputs": [
    {
     "name": "stdout",
     "output_type": "stream",
     "text": [
      "Prediction is\n",
      " 0    1\n",
      "1   -1\n",
      "2    1\n",
      "3   -1\n",
      "4   -1\n",
      "dtype: int64\n"
     ]
    }
   ],
   "source": [
    "y_predict = adaboost.predict(X)"
   ]
  },
  {
   "cell_type": "code",
   "execution_count": 6,
   "id": "0b8239db",
   "metadata": {},
   "outputs": [
    {
     "data": {
      "text/plain": [
       "0    1\n",
       "1   -1\n",
       "2    1\n",
       "3   -1\n",
       "4   -1\n",
       "dtype: int64"
      ]
     },
     "execution_count": 6,
     "metadata": {},
     "output_type": "execute_result"
    }
   ],
   "source": [
    "y_predict"
   ]
  },
  {
   "cell_type": "code",
   "execution_count": 7,
   "id": "99a48f6c",
   "metadata": {},
   "outputs": [
    {
     "name": "stdout",
     "output_type": "stream",
     "text": [
      "[ 1 -1  1 -1 -1]\n"
     ]
    }
   ],
   "source": [
    "from sklearn.ensemble import AdaBoostClassifier\n",
    "ada_class = AdaBoostClassifier(n_estimators=8)\n",
    "ada_class.fit(X, y)\n",
    "y_pre = ada_class.predict(X)\n",
    "print(y_pre)"
   ]
  },
  {
   "cell_type": "code",
   "execution_count": 8,
   "id": "b8f201fc",
   "metadata": {},
   "outputs": [
    {
     "name": "stdout",
     "output_type": "stream",
     "text": [
      "[0.2 0.2 0.2 0.2 0.2]\n"
     ]
    }
   ],
   "source": [
    "import numpy as np\n",
    "a = np.ones(5)*1/5\n",
    "print(a)"
   ]
  }
 ],
 "metadata": {
  "kernelspec": {
   "display_name": "Python 3 (ipykernel)",
   "language": "python",
   "name": "python3"
  },
  "language_info": {
   "codemirror_mode": {
    "name": "ipython",
    "version": 3
   },
   "file_extension": ".py",
   "mimetype": "text/x-python",
   "name": "python",
   "nbconvert_exporter": "python",
   "pygments_lexer": "ipython3",
   "version": "3.9.12"
  }
 },
 "nbformat": 4,
 "nbformat_minor": 5
}
